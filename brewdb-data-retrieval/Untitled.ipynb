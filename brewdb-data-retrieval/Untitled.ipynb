{
 "cells": [
  {
   "cell_type": "code",
   "execution_count": 6,
   "metadata": {},
   "outputs": [],
   "source": [
    "import pandas as pd\n",
    "%matplotlib inline"
   ]
  },
  {
   "cell_type": "code",
   "execution_count": 2,
   "metadata": {},
   "outputs": [
    {
     "name": "stderr",
     "output_type": "stream",
     "text": [
      "/Users/satishterala/anaconda2/lib/python2.7/site-packages/IPython/core/interactiveshell.py:2723: DtypeWarning: Columns (11,17) have mixed types. Specify dtype option on import or set low_memory=False.\n",
      "  interactivity=interactivity, compiler=compiler, result=result)\n"
     ]
    },
    {
     "data": {
      "text/html": [
       "<div>\n",
       "<table border=\"1\" class=\"dataframe\">\n",
       "  <thead>\n",
       "    <tr style=\"text-align: right;\">\n",
       "      <th></th>\n",
       "      <th>abv</th>\n",
       "      <th>abvMin</th>\n",
       "      <th>brewery_id</th>\n",
       "      <th>createDate</th>\n",
       "      <th>description</th>\n",
       "      <th>fgMin</th>\n",
       "      <th>foodPairings</th>\n",
       "      <th>glass_id</th>\n",
       "      <th>glass_name</th>\n",
       "      <th>glasswareId</th>\n",
       "      <th>...</th>\n",
       "      <th>servingTemperature</th>\n",
       "      <th>servingTemperatureDisplay</th>\n",
       "      <th>shortName</th>\n",
       "      <th>srmId</th>\n",
       "      <th>srmMax</th>\n",
       "      <th>srmMin</th>\n",
       "      <th>status</th>\n",
       "      <th>style</th>\n",
       "      <th>updateDate</th>\n",
       "      <th>year</th>\n",
       "    </tr>\n",
       "  </thead>\n",
       "  <tbody>\n",
       "    <tr>\n",
       "      <th>0</th>\n",
       "      <td>11.10</td>\n",
       "      <td>7.0</td>\n",
       "      <td>qa1QZU</td>\n",
       "      <td>2013-01-20 21:38:15</td>\n",
       "      <td>Hop Heads this one's for you!  Checking in wit...</td>\n",
       "      <td>1.020</td>\n",
       "      <td>NaN</td>\n",
       "      <td>5</td>\n",
       "      <td>Pint</td>\n",
       "      <td>5</td>\n",
       "      <td>...</td>\n",
       "      <td>NaN</td>\n",
       "      <td>NaN</td>\n",
       "      <td>American Imperial Stout</td>\n",
       "      <td>33</td>\n",
       "      <td>40</td>\n",
       "      <td>40</td>\n",
       "      <td>verified</td>\n",
       "      <td>North American Origin Ales</td>\n",
       "      <td>2016-02-10 14:59:59</td>\n",
       "      <td>NaN</td>\n",
       "    </tr>\n",
       "    <tr>\n",
       "      <th>1</th>\n",
       "      <td>6.33</td>\n",
       "      <td>4.5</td>\n",
       "      <td>DBkLHq</td>\n",
       "      <td>2015-04-20 21:43:59</td>\n",
       "      <td>Our first beer has been aptly named \"633\" afte...</td>\n",
       "      <td>1.008</td>\n",
       "      <td>NaN</td>\n",
       "      <td>NaN</td>\n",
       "      <td>NaN</td>\n",
       "      <td>NaN</td>\n",
       "      <td>...</td>\n",
       "      <td>NaN</td>\n",
       "      <td>NaN</td>\n",
       "      <td>American Pale</td>\n",
       "      <td>NaN</td>\n",
       "      <td>14</td>\n",
       "      <td>6</td>\n",
       "      <td>verified</td>\n",
       "      <td>North American Origin Ales</td>\n",
       "      <td>2015-04-20 21:43:59</td>\n",
       "      <td>NaN</td>\n",
       "    </tr>\n",
       "    <tr>\n",
       "      <th>2</th>\n",
       "      <td>7.00</td>\n",
       "      <td>7.5</td>\n",
       "      <td>BU4IJP</td>\n",
       "      <td>2012-09-09 13:35:27</td>\n",
       "      <td>Milwaukee Brewing Co’s take on a classic Europ...</td>\n",
       "      <td>1.016</td>\n",
       "      <td>NaN</td>\n",
       "      <td>5</td>\n",
       "      <td>Pint</td>\n",
       "      <td>5</td>\n",
       "      <td>...</td>\n",
       "      <td>NaN</td>\n",
       "      <td>NaN</td>\n",
       "      <td>Baltic Porter</td>\n",
       "      <td>37</td>\n",
       "      <td>40</td>\n",
       "      <td>40</td>\n",
       "      <td>verified</td>\n",
       "      <td>Other Lager</td>\n",
       "      <td>2015-12-16 18:47:43</td>\n",
       "      <td>2012</td>\n",
       "    </tr>\n",
       "    <tr>\n",
       "      <th>3</th>\n",
       "      <td>5.40</td>\n",
       "      <td>5.0</td>\n",
       "      <td>pvE2w5</td>\n",
       "      <td>2015-11-02 20:42:02</td>\n",
       "      <td>A robust porter style ale with a twist. This b...</td>\n",
       "      <td>1.008</td>\n",
       "      <td>NaN</td>\n",
       "      <td>NaN</td>\n",
       "      <td>NaN</td>\n",
       "      <td>NaN</td>\n",
       "      <td>...</td>\n",
       "      <td>NaN</td>\n",
       "      <td>NaN</td>\n",
       "      <td>Robust Porter</td>\n",
       "      <td>40</td>\n",
       "      <td>30</td>\n",
       "      <td>30</td>\n",
       "      <td>verified</td>\n",
       "      <td>British Origin Ales</td>\n",
       "      <td>2015-11-02 20:42:03</td>\n",
       "      <td>NaN</td>\n",
       "    </tr>\n",
       "    <tr>\n",
       "      <th>4</th>\n",
       "      <td>4.80</td>\n",
       "      <td>NaN</td>\n",
       "      <td>FfMi8U</td>\n",
       "      <td>2015-11-03 17:04:44</td>\n",
       "      <td>Black Currant Kettle Sour.</td>\n",
       "      <td>NaN</td>\n",
       "      <td>NaN</td>\n",
       "      <td>NaN</td>\n",
       "      <td>NaN</td>\n",
       "      <td>NaN</td>\n",
       "      <td>...</td>\n",
       "      <td>NaN</td>\n",
       "      <td>NaN</td>\n",
       "      <td>Sour</td>\n",
       "      <td>NaN</td>\n",
       "      <td>NaN</td>\n",
       "      <td>NaN</td>\n",
       "      <td>verified</td>\n",
       "      <td>North American Origin Ales</td>\n",
       "      <td>2015-11-03 17:04:45</td>\n",
       "      <td>NaN</td>\n",
       "    </tr>\n",
       "  </tbody>\n",
       "</table>\n",
       "<p>5 rows × 29 columns</p>\n",
       "</div>"
      ]
     },
     "output_type": "execute_result",
     "metadata": {}
    }
   ],
   "source": [
    "b = pd.read_csv('beers-brewerydb.csv')\n",
    "b.head()"
   ]
  },
  {
   "cell_type": "code",
   "execution_count": 3,
   "metadata": {},
   "outputs": [
    {
     "data": {
      "text/plain": [
       "['abv',\n",
       " 'abvMin',\n",
       " 'brewery_id',\n",
       " 'createDate',\n",
       " 'description',\n",
       " 'fgMin',\n",
       " 'foodPairings',\n",
       " 'glass_id',\n",
       " 'glass_name',\n",
       " 'glasswareId',\n",
       " 'ibu',\n",
       " 'ibuMax',\n",
       " 'ibuMin',\n",
       " 'id',\n",
       " 'name',\n",
       " 'ogMin',\n",
       " 'organic',\n",
       " 'originalGravity',\n",
       " 'resource_url',\n",
       " 'servingTemperature',\n",
       " 'servingTemperatureDisplay',\n",
       " 'shortName',\n",
       " 'srmId',\n",
       " 'srmMax',\n",
       " 'srmMin',\n",
       " 'status',\n",
       " 'style',\n",
       " 'updateDate',\n",
       " 'year']"
      ]
     },
     "execution_count": 3,
     "output_type": "execute_result",
     "metadata": {}
    }
   ],
   "source": [
    "b.columns.tolist()"
   ]
  },
  {
   "cell_type": "code",
   "execution_count": 7,
   "metadata": {},
   "outputs": [
    {
     "data": {
      "text/plain": [
       "<matplotlib.axes._subplots.AxesSubplot at 0x115dbcfd0>"
      ]
     },
     "execution_count": 7,
     "output_type": "execute_result",
     "metadata": {}
    },
    {
     "data": {
      "image/png": "[encoded data removed]"
     },
     "output_type": "display_data",
     "metadata": {}
    }
   ],
   "source": [
    "b.abv.hist()"
   ]
  },
  {
   "cell_type": "code",
   "execution_count": 10,
   "metadata": {},
   "outputs": [
    {
     "data": {
      "text/plain": [
       "<matplotlib.axes._subplots.AxesSubplot at 0x116dd0290>"
      ]
     },
     "execution_count": 10,
     "output_type": "execute_result",
     "metadata": {}
    },
    {
     "data": {
      "image/png": "[encoded data removed]"
     },
     "output_type": "display_data",
     "metadata": {}
    }
   ],
   "source": [
    "b.organic.value_counts().plot(kind='bar')"
   ]
  },
  {
   "cell_type": "code",
   "execution_count": 14,
   "metadata": {},
   "outputs": [
    {
     "data": {
      "text/plain": [
       "<matplotlib.axes._subplots.AxesSubplot at 0x165573410>"
      ]
     },
     "execution_count": 14,
     "output_type": "execute_result",
     "metadata": {}
    },
    {
     "data": {
      "image/png": "[encoded data removed]"
     },
     "output_type": "display_data",
     "metadata": {}
    }
   ],
   "source": [
    "b.ibu.hist()"
   ]
  },
  {
   "cell_type": "code",
   "execution_count": 16,
   "metadata": {},
   "outputs": [
    {
     "data": {
      "text/plain": [
       "70.0                                                                                                                                                                                                                                                                                                                                                                                                                                                                                                                                                                                                                                                                                                                                                                            4563\n",
       "40.0                                                                                                                                                                                                                                                                                                                                                                                                                                                                                                                                                                                                                                                                                                                                                                            3825\n",
       "40                                                                                                                                                                                                                                                                                                                                                                                                                                                                                                                                                                                                                                                                                                                                                                              2868\n",
       "70                                                                                                                                                                                                                                                                                                                                                                                                                                                                                                                                                                                                                                                                                                                                                                              2555\n",
       "25.0                                                                                                                                                                                                                                                                                                                                                                                                                                                                                                                                                                                                                                                                                                                                                                            2457\n",
       "30.0                                                                                                                                                                                                                                                                                                                                                                                                                                                                                                                                                                                                                                                                                                                                                                            2364\n",
       "100.0                                                                                                                                                                                                                                                                                                                                                                                                                                                                                                                                                                                                                                                                                                                                                                           2297\n",
       "42.0                                                                                                                                                                                                                                                                                                                                                                                                                                                                                                                                                                                                                                                                                                                                                                            1813\n",
       "45.0                                                                                                                                                                                                                                                                                                                                                                                                                                                                                                                                                                                                                                                                                                                                                                            1752\n",
       "30                                                                                                                                                                                                                                                                                                                                                                                                                                                                                                                                                                                                                                                                                                                                                                              1513\n",
       "15.0                                                                                                                                                                                                                                                                                                                                                                                                                                                                                                                                                                                                                                                                                                                                                                            1386\n",
       "42                                                                                                                                                                                                                                                                                                                                                                                                                                                                                                                                                                                                                                                                                                                                                                              1333\n",
       "100                                                                                                                                                                                                                                                                                                                                                                                                                                                                                                                                                                                                                                                                                                                                                                             1118\n",
       "25                                                                                                                                                                                                                                                                                                                                                                                                                                                                                                                                                                                                                                                                                                                                                                              1115\n",
       "35.0                                                                                                                                                                                                                                                                                                                                                                                                                                                                                                                                                                                                                                                                                                                                                                            1054\n",
       "45                                                                                                                                                                                                                                                                                                                                                                                                                                                                                                                                                                                                                                                                                                                                                                               935\n",
       "50.0                                                                                                                                                                                                                                                                                                                                                                                                                                                                                                                                                                                                                                                                                                                                                                             927\n",
       "35                                                                                                                                                                                                                                                                                                                                                                                                                                                                                                                                                                                                                                                                                                                                                                               897\n",
       "60.0                                                                                                                                                                                                                                                                                                                                                                                                                                                                                                                                                                                                                                                                                                                                                                             885\n",
       "80.0                                                                                                                                                                                                                                                                                                                                                                                                                                                                                                                                                                                                                                                                                                                                                                             785\n",
       "15                                                                                                                                                                                                                                                                                                                                                                                                                                                                                                                                                                                                                                                                                                                                                                               764\n",
       "60                                                                                                                                                                                                                                                                                                                                                                                                                                                                                                                                                                                                                                                                                                                                                                               575\n",
       "50                                                                                                                                                                                                                                                                                                                                                                                                                                                                                                                                                                                                                                                                                                                                                                               482\n",
       "65.0                                                                                                                                                                                                                                                                                                                                                                                                                                                                                                                                                                                                                                                                                                                                                                             442\n",
       "17.0                                                                                                                                                                                                                                                                                                                                                                                                                                                                                                                                                                                                                                                                                                                                                                             431\n",
       "28.0                                                                                                                                                                                                                                                                                                                                                                                                                                                                                                                                                                                                                                                                                                                                                                             424\n",
       "13.0                                                                                                                                                                                                                                                                                                                                                                                                                                                                                                                                                                                                                                                                                                                                                                             401\n",
       "17                                                                                                                                                                                                                                                                                                                                                                                                                                                                                                                                                                                                                                                                                                                                                                               380\n",
       "80                                                                                                                                                                                                                                                                                                                                                                                                                                                                                                                                                                                                                                                                                                                                                                               375\n",
       "20.0                                                                                                                                                                                                                                                                                                                                                                                                                                                                                                                                                                                                                                                                                                                                                                             373\n",
       "                                                                                                                                                                                                                                                                                                                                                                                                                                                                                                                                                                                                                                                                                                                                                                                ... \n",
       "The 31st offering from the Harpoon 100 Barrel Series is the Single Hop ESB, brewed by Harpoon brewer Charlie Cummings. Already excited about crafting an Extra Special Bitter, Charlie jumped at the rare opportunity to brew this beer using one hop varietal, Delta, exclusively throughout the process.                                                                                                                                                                                                                                                                                                                                                                                                                                                                         1\n",
       "An American-style 100% organic craft lager, brewed entirely from ingredients west of the 100th Meridian. Our brewmaster, Joel Manning, met the farmers that grow our organic barley in the Great Plains of Canada. A fine folk that have taken a step back, returning to their roots and doing things the right way.                                                                                                                                                                                                                                                                                                                                                                                                                                                               1\n",
       "Creamy with hints of coffee, chocolate and vanilla. A faintly nutty, bitter finish.                                                                                                                                                                                                                                                                                                                                                                                                                                                                                                                                                                                                                                                                                                1\n",
       "One of our four flagship beers. Clean, dry and aromatic!                                                                                                                                                                                                                                                                                                                                                                                                                                                                                                                                                                                                                                                                                                                           1\n",
       "At once cuddly and ferocious, (512) BRUIN combines a smooth, rich maltiness and mahogany color with a solid hop backbone and stealthy 7.6% alcohol. Made with Organic 2 Row and Munich malts, plus Chocolate and Crystal malts, domestic hops, and a touch of molasses, this brew has notes of raisins, dark sugars, and cocoa, and pairs perfectly with food and the crisp fall air.                                                                                                                                                                                                                                                                                                                                                                                              1\n",
       "Made in the style of the Belgian wheat beers that are so refreshing, (512) Wit is a hazy ale spiced with coriander and domestic grapefruit peel. 50% US Organic 2-row malted barley and 50% US unmalted wheat and oats make this a light, crisp ale well suited for any occasion.                                                                                                                                                                                                                                                                                                                                                                                                                                                                                                  1\n",
       "Our version of this classic Belgian style is slightly cloudy with a deep golden color. The complex, fruity aroma is a result of the esters produced by our special yeast. The soft malty flavor finishes smoothly with a slight sweetness.                                                                                                                                                                                                                                                                                                                                                                                                                                                                                                                                         1\n",
       "Toasty malt and plenty of local wildflower honey make this golden blonde ale one of our most popular beers. Named after the famous “400” Chicago and Northwestern passenger train.                                                                                                                                                                                                                                                                                                                                                                                                                                                                                                                                                                                                 1\n",
       "Finally an Isley IPA.... You will fall in love with this hoppy brew that comes through at 90 IBU's. The nose is piney with a hint of citrus, and the medium body and caramel maltiness are a refreshing change from your typical IPA. This ale crosses the line and tears through the stereotypes. … Give it a shot                                                                                                                                                                                                                                                                                                                                                                                                                                                                1\n",
       "We produced Peach Sour using a sour mash technique. We encouraged the naturally occurring wild yeast and bacteria that come in with the organic barley and wheat to spontaneously ferment at warm temperatures over a three day period. Fermentation was completed in stainless and racked to a 1,000 gallon Foeder (large oak barrel) for aging. After being on the wood for two months, we added 200 pounds of fresh peaches and allowed it to age another 12 months before packaging it for you. We hope you enjoy!                                                                                                                                                                                                                                                             1\n",
       "This perfect little Belgian angel is our lightest offering, but by no means is it light on the flavor. It drinks a cloudy straw yellow color with lots of belgian citrus and clove esters. This one is very dry and crisp with a peppery finish to round it out.                                                                                                                                                                                                                                                                                                                                                                                                                                                                                                                   1\n",
       "We went all out on the hops for our 2nd Anniversary release, a Double IPA. Eight varieties of hops (including Glacier, Horizon, Nugget, and Columbus) spread out over 10 different additions (including whole-leaf Simcoe and Nugget in the grant, and 2 separate dry-hoppings!) add up to 99 IBUs of pure hoppy goodness . A solid malt backbone supports the smooth bitterness, complex flavors, and intoxicating aroma. And like all (512) ales, this one is made using over 80% USDA certified organic ingredients.                                                                                                                                                                                                                                                            1\n",
       "This aptly-named offering brewed from white wheat and barley is crisp and quaffable.  Light additions of Liberty and Cluster hops blend with coriander, chamomile, and orange peel in a refreshing medley of citrus and spice.                                                                                                                                                                                                                                                                                                                                                                                                                                                                                                                                                     1\n",
       "(512) FIVE is the culmination of our experience thus far and features a lineup of some of our favorite ingredients. Organic American two-row and English Maris Otter malts lay the foundation, while a generous dose of English roasted barley, black malt and chocolate malt create layers of roasty, dark complexity. American and Belgian crystal malts give balance and depth to the roasted character. Multiple additions of UK Fuggle hops impart an earthy, spicy finish to this deep, dark Imperial Stout.                                                                                                                                                                                                                                                                 1\n",
       "The Harpoon 100 Barrel Series Smoked Porter is brewed with German beechwood rauch malt and a blend of eight other malts. This porter style ale is full-bodied and malty. The smoked malt imparts a complex but pleasant aroma and flavor with a balanced and subtle hop finish.                                                                                                                                                                                                                                                                                                                                                                                                                                                                                                    1\n",
       "This Hefeweizen will have your taste buds in love at hello, goodbye, and every sip in between  This wheat beer has gentle hints of banana and clove  with a sweet malty flavor. It will grab you on the first sip and you won't want to say goodbye                                                                                                                                                                                                                                                                                                                                                                                                                                                                                                                                1\n",
       "The first session of the Harpoon 100 Barrel Series kicked off this new adventure in brewing with style. It is also the first beer that we honored by brewing it for the Encore Series.                                                                                                                                                                                                                                                                                                                                                                                                                                                                                                                                                                                             1\n",
       "This old brewery favorite is rich in malt flavor with a hoppy aroma. Union Street is unfiltered and has a deep chestnut color. The full body and crisp bitterness make a perfect beer for autumn.                                                                                                                                                                                                                                                                                                                                                                                                                                                                                                                                                                                  1\n",
       "(512)’s first excursion into the world of so-called wild fermentation, Wild Bear’s origins lie in our Fall seasonal, BRUIN. After primary fermentation, we added Brettanomyces yeast and Pediococcus bacteria cultures, and aged the blend in new oak barrels for over 10 months. This combination of wild “bugs” and barrel aging gives (512) Wild Bear a complex and enticing aroma of tart cherries, oak, and a touch of barnyard “funkiness”, a crisp, tart flavor that will intensify with age, and an effervescent, oaky finish that leaves the palate clean. More recent versions are aged in one of our 45HL Foeder for 24 months.                                                                                                                                         1\n",
       "(512) ALT is a German-style amber ale that is fermented cooler than typical ales and cold conditioned like a lager. ALT means \"old\" in German and refers to a beer style made using ale yeast after many German brewers had switched to newly discovered lager yeast. This ale has a very smooth, yet pronounced, hop bitterness with a malty backbone and a characteristic German yeast character. Made with 98% Organic 2-row and Munch malts and US noble hops.                                                                                                                                                                                                                                                                                                                 1\n",
       "Hatter is crazy about time, and about finely crafted beer. The Rabbit Hole Brewing 10/6 English IPA features a prominent English hop character supported by a smooth, bready malt backbone. This Rabbit Hole Ale is crafted with the finest floor-malted Maris Otter winter barley and flavored with three different varieties of English hops. It is bold and flavorful without driving your palate completely insane. So whatever the time may be, it is always time for another 10/6, the IPA with refinement.                                                                                                                                                                                                                                                                  1\n",
       "Brewed with six different malts and Tettnang hops and fermented with a Belgian Wit yeast, this light and easy drinking Wit will have you thanking the Muscles from Brussels for lending his name to this one.                                                                                                                                                                                                                                                                                                                                                                                                                                                                                                                                                                      1\n",
       "The big, malty scent of the Harpoon 100 Barrel Series Maibock is present just above the floral hop nose.  The combination of five malts creates a full, smooth texture that yields a clean, dry bitterness.  This is a full-bodied beer with a pronounced hop and malt character.                                                                                                                                                                                                                                                                                                                                                                                                                                                                                                  1\n",
       "So named for the lack of family-friendly names that our employees came up with for this beer. As Porter’s 8-year-old son would say, “They were all ‘Inappropriate’.” A preprohibition style cream ale that uses a solid proportion of flaked corn in the malt as was typical of that time period. With a light bready aroma and light body, it is refreshing for a hot Summer day. To ferment, we used an ale/lager hybrid yeast strain that finishes crisp to quench your thirst. Also, as its clarity reveals, it is one of our few filtered beers.                                                                                                                                                                                                                              1\n",
       "Don't let the name scare you, this is an easy drinker, slightly sweet and bitter.                                                                                                                                                                                                                                                                                                                                                                                                                                                                                                                                                                                                                                                                                                  1\n",
       "The Mighty Fish Brewers first produced Ten Squared Anniversary Ale to celebrate Fish Brewing Company's tenth anniversary. The ale was so good and the response to it so overwhelmingly positive that it has become the crown jewel of REEL ALEs.\\r\\n\\r\\nTen different hops: Horizon, Chinook, Columbus, Willamette, Tradition, Northern Brewer, Santiam, Tettnanger, Cascade and Golding, in the order of their use -- give Ten Squared a unique hop character which has to be tasted to be believed.\\r\\n\\r\\nEven with 100 IBUs, this brew sports a strong malt backbone. Two-row Pale, Caramel 40, Caramel 75, Special B and Aromatic malts impart remarkable balance for such a hop monster. This is smooth ale with surprising similarities to ten year old malt whiskey.       1\n",
       "This deep copper colored ale blends a spectrum of malts to build a medium bodied, full flavored beer. The German hops provide a subtle aroma and a clean, bitter finish. The Harpoon 100 Barrel Series Alt is well-balanced, smooth, and refreshing.                                                                                                                                                                                                                                                                                                                                                                                                                                                                                                                               1\n",
       "Quad brewed a year before being released in bottles. Giving this robust beer time to age properly was essential in bringing the dark specialty malts forward and allowing the alcohol to mellow.                                                                                                                                                                                                                                                                                                                                                                                                                                                                                                                                                                                   1\n",
       "Specially brewed in celebration of our 10 year anniversary, this light-bodied white IPA is brewed with wheat and oats, generously hopped with Citra and Mosaic hops for a clean, floral, punchy hop finish.  Refreshing and irresistible!                                                                                                                                                                                                                                                                                                                                                                                                                                                                                                                                          1\n",
       "IPA Collab w/ Two Stones Brewpub.                                                                                                                                                                                                                                                                                                                                                                                                                                                                                                                                                                                                                                                                                                                                                  1\n",
       "Name: ibuMax, dtype: int64"
      ]
     },
     "execution_count": 16,
     "output_type": "execute_result",
     "metadata": {}
    }
   ],
   "source": [
    "b.ibuMax.value_counts()"
   ]
  },
  {
   "cell_type": "code",
   "execution_count": null,
   "metadata": {},
   "outputs": [],
   "source": [
    ""
   ]
  }
 ],
 "metadata": {
  "kernelspec": {
   "display_name": "Python 2",
   "language": "python",
   "name": "python2"
  },
  "language_info": {
   "codemirror_mode": {
    "name": "ipython",
    "version": 2.0
   },
   "file_extension": ".py",
   "mimetype": "text/x-python",
   "name": "python",
   "nbconvert_exporter": "python",
   "pygments_lexer": "ipython2",
   "version": "2.7.10"
  }
 },
 "nbformat": 4,
 "nbformat_minor": 0
}